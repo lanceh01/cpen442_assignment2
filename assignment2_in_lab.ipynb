{
 "cells": [
  {
   "cell_type": "code",
   "execution_count": 1,
   "id": "2a2b1433",
   "metadata": {},
   "outputs": [],
   "source": [
    "import matplotlib.pyplot as plt"
   ]
  },
  {
   "cell_type": "code",
   "execution_count": 7,
   "id": "3d987bea",
   "metadata": {},
   "outputs": [],
   "source": [
    "frequencies_unsorted = {'E': 1, 'S': 1, 'X': 4, 'W': 5, 'F': 6, 'N': 7, 'P': 7, \n",
    "                'V': 12, 'J': 14, 'R': 14, 'L': 18, 'I': 18, 'U': 23, \n",
    "                'A': 25, 'G': 26, 'D': 27, 'M': 28, 'Q': 38, 'O': 40, \n",
    "                'H': 42, 'C': 54, 'B': 67, 'Z': 69, 'Y': 78}\n",
    "frequencies = {}\n",
    "\n",
    "for elem in sorted(frequencies_unsorted.keys()):\n",
    "    frequencies[elem] = frequencies_unsorted[elem]\n",
    "    \n",
    "cipher_text = 'YHZOZJBDACYHQAFDCWZONOZMBOPBRLZQAYHBYACOUQUBLQGZYHQAPQYDCWZONMIGHCIYCVYHZJBNYCHZBOYHZOBRRQYDBNYCQYDZLVGCMMBCHUZBOCHUZBOQDHBLLRZLBYZJHZADHZYHCIFHYQYCWZOBVYZOJBOUDGCMMBQYCGGIOOZUYCHZOYHBYDHZCIFHYYCHBWZJCAUZOZUBYYHQDGCMMBRIYBYYHZYQMZQYBLLDZZMZUEIQYZABYIOBLRIYJHZAYHZOBRRQYBGYIBLLNYCCPBJBYGHCIYCVQYDJBQDYGCBYXCGPZYGCMMBBAULCCPZUBYQYGCMMBBAUYHZAHIOOQZUCAGCMMBBLQGZDYBOYZUYCHZOVZZYGCMMBVCOQYVLBDHZUBGOCDDHZOMQAUYHBYDHZHBUAZWZORZVCOZDZZABOBRRQYJQYHZQYHZOBJBQDYGCBYXCGPZYGCMMBCOBJBYGHYCYBPZCIYCVQYGCMMBBAURIOAQAFJQYHGIOQCDQYNGCMMBDHZOBABGOCDDYHZVQZLUBVYZOQYGCMMBBAUVCOYIABYZLNJBDSIDYQAYQMZYCDZZQYXCXUCJABLBOFZOBRRQYHCLZIAUZOYHZHZUFZ'"
   ]
  },
  {
   "cell_type": "code",
   "execution_count": 6,
   "id": "554ca9e4",
   "metadata": {},
   "outputs": [
    {
     "data": {
      "image/png": "[encoded data removed]",
      "text/plain": [
       "<Figure size 432x288 with 1 Axes>"
      ]
     },
     "metadata": {
      "needs_background": "light"
     },
     "output_type": "display_data"
    }
   ],
   "source": [
    "fig = plt.figure()\n",
    "ax = fig.add_axes([0,0,1,1])\n",
    "letters = frequencies.keys()\n",
    "frequencies = frequencies.values()\n",
    "ax.bar(letters,frequencies)\n",
    "plt.show()"
   ]
  },
  {
   "cell_type": "code",
   "execution_count": 35,
   "id": "e9b9ede2",
   "metadata": {},
   "outputs": [
    {
     "name": "stdout",
     "output_type": "stream",
     "text": [
      "thereJaDAothQAFDoWerNremarPaRLeQAthatAorUQUaLQcethQAPQtDoWerNmIchoItoVtheJaNtoheartheraRRQtDaNtoQtDeLVcommaohUearohUearQDhaLLReLateJheADhethoIFhtQtoWeraVterJarUDcommaQtoccIrreUtoherthatDheoIFhttohaWeJoAUereUatthQDcommaRItatthetQmeQtaLLDeemeUEIQteAatIraLRItJheAtheraRRQtactIaLLNtooPaJatchoItoVQtDJaQDtcoatXocPetcommaaAULooPeUatQtcommaaAUtheAhIrrQeUoAcommaaLQceDtarteUtoherVeetcommaVorQtVLaDheUacroDDhermQAUthatDhehaUAeWerReVoreDeeAaraRRQtJQtheQtheraJaQDtcoatXocPetcommaoraJatchtotaPeoItoVQtcommaaAURIrAQAFJQthcIrQoDQtNcommaDheraAacroDDtheVQeLUaVterQtcommaaAUVortIAateLNJaDSIDtQAtQmetoDeeQtXoXUoJAaLarFeraRRQthoLeIAUertheheUFe\n"
     ]
    }
   ],
   "source": [
    "plain_text = ''\n",
    "for char in cipher_text:\n",
    "    if (char == 'Y'):\n",
    "        plain_text += 't'\n",
    "    elif (char == 'Z'):\n",
    "        plain_text += 'e'\n",
    "    elif (char == 'H'):\n",
    "        plain_text += 'h'\n",
    "    elif (char == 'M'):\n",
    "        plain_text += 'm'\n",
    "    elif (char == 'B'):\n",
    "        plain_text += 'a'\n",
    "    elif (char == 'G'):\n",
    "        plain_text += 'c'\n",
    "    elif (char == 'C'):\n",
    "        plain_text += 'o'\n",
    "    elif (char == 'O'):\n",
    "        plain_text += 'r'\n",
    "    else:\n",
    "        plain_text += char\n",
    "print(plain_text)"
   ]
  },
  {
   "cell_type": "code",
   "execution_count": null,
   "id": "be489865",
   "metadata": {},
   "outputs": [],
   "source": [
    "y=t\n",
    "z=e\n",
    "b=a\n",
    "a=n\n",
    "u=d\n",
    "GCMMB"
   ]
  },
  {
   "cell_type": "code",
   "execution_count": null,
   "id": "ac69a637",
   "metadata": {},
   "outputs": [],
   "source": []
  }
 ],
 "metadata": {
  "kernelspec": {
   "display_name": "Python 3 (ipykernel)",
   "language": "python",
   "name": "python3"
  },
  "language_info": {
   "codemirror_mode": {
    "name": "ipython",
    "version": 3
   },
   "file_extension": ".py",
   "mimetype": "text/x-python",
   "name": "python",
   "nbconvert_exporter": "python",
   "pygments_lexer": "ipython3",
   "version": "3.9.7"
  }
 },
 "nbformat": 4,
 "nbformat_minor": 5
}
